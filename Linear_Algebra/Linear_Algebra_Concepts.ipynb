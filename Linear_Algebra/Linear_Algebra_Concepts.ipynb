{
 "cells": [
  {
   "cell_type": "markdown",
   "metadata": {},
   "source": [
    "### Importing necessary packages"
   ]
  },
  {
   "cell_type": "code",
   "execution_count": 1,
   "metadata": {},
   "outputs": [],
   "source": [
    "import numpy as np\n",
    "import numpy.linalg as la"
   ]
  },
  {
   "cell_type": "markdown",
   "metadata": {},
   "source": [
    "### Implementing the Function to check Matrix Singularity"
   ]
  },
  {
   "cell_type": "code",
   "execution_count": 2,
   "metadata": {},
   "outputs": [],
   "source": [
    "# Functions to fix each row and convert the matrix to echelon form\n",
    "def fix_Row_Zero(A) :\n",
    "    if A[0,0] == 0 :\n",
    "        A[0] = A[0] + A[1]\n",
    "    if A[0,0] == 0 :\n",
    "        A[0] = A[0] + A[2]\n",
    "    if A[0,0] == 0 :\n",
    "        A[0] = A[0] + A[3]\n",
    "    if A[0,0] == 0 :\n",
    "        raise Matrix_Singular()\n",
    "    A[0] = A[0] / A[0,0]\n",
    "    return A\n",
    "\n",
    "def fix_Row_One(A) :\n",
    "    A[1] = A[1] - A[1,0] * A[0]\n",
    "    if A[1,1] == 0 :\n",
    "        A[1] = A[1] + A[2]\n",
    "        A[1] = A[1] - A[1,0] * A[0]\n",
    "    if A[1,1] == 0 :\n",
    "        A[1] = A[1] + A[3]\n",
    "        A[1] = A[1] - A[1,0] * A[0]\n",
    "    if A[1,1] == 0 :\n",
    "        raise Matrix_Singular()\n",
    "    A[1] = A[1] / A[1,1]\n",
    "    return A\n",
    "\n",
    "def fix_Row_Two(A) :\n",
    "    A[2] = A[2] - A[2,0] * A[0]\n",
    "    A[2] = A[2] - A[2,1] * A[1]\n",
    "    if A[2,2] == 0 :\n",
    "        A[2] = A[2] + A[3]\n",
    "        A[2] = A[2] - A[2,0] * A[0]\n",
    "        A[2] = A[2] - A[2,1] * A[1]\n",
    "        \n",
    "    if A[2,2] == 0 :\n",
    "        raise Matrix_Singular()\n",
    "    A[2] = A[2] / A[2,2]\n",
    "    return A\n",
    "\n",
    "def fix_Row_Three(A) :\n",
    "    A[3] = A[3] - A[3,0] * A[0]\n",
    "    A[3] = A[3] - A[3,1] * A[1]\n",
    "    A[3] = A[3] - A[3,2] * A[2]\n",
    "    \n",
    "    if A[3,3] == 0:\n",
    "        raise Matrix_Singular()\n",
    "    A[3] = A[3] / A[3,3]\n",
    "    return A"
   ]
  },
  {
   "cell_type": "code",
   "execution_count": 3,
   "metadata": {},
   "outputs": [],
   "source": [
    "\"\"\"\n",
    "\n",
    "A function to test if a 4×4 matrix is singular, i.e. to determine if an inverse exists, before calculating it.\n",
    "\n",
    "Used the method of converting a matrix to echelon form, and testing if this fails by leaving zeros that can’t be removed on the leading diagonal.\n",
    "\n",
    "\"\"\"\n",
    "\n",
    "def Singularity_Test(A) :\n",
    "    B = np.array(A, dtype=np.float_)\n",
    "    try:\n",
    "        fix_Row_Zero(B)\n",
    "        fix_Row_One(B)\n",
    "        fix_Row_Two(B)\n",
    "        fix_Row_Three(B)\n",
    "    except Matrix_Singular:\n",
    "        return True\n",
    "    return False\n",
    "\n",
    "# Error Flag\n",
    "class Matrix_Singular(Exception): pass\n"
   ]
  },
  {
   "cell_type": "code",
   "execution_count": 4,
   "metadata": {},
   "outputs": [
    {
     "data": {
      "text/plain": [
       "True"
      ]
     },
     "execution_count": 4,
     "metadata": {},
     "output_type": "execute_result"
    }
   ],
   "source": [
    "# Verifying the results\n",
    "A = np.array([\n",
    "        [2, 0, 0, 0],\n",
    "        [0, 3, 0, 0],\n",
    "        [0, 0, 4, 4],\n",
    "        [0, 0, 5, 5]\n",
    "    ], dtype=np.float_)\n",
    "Singularity_Test(A)"
   ]
  },
  {
   "cell_type": "code",
   "execution_count": 5,
   "metadata": {},
   "outputs": [
    {
     "data": {
      "text/plain": [
       "False"
      ]
     },
     "execution_count": 5,
     "metadata": {},
     "output_type": "execute_result"
    }
   ],
   "source": [
    "B = np.array([[2,3,4,5],[5,4,9,7],[3,2,5,6],[9,9,6,5]],dtype=np.float_)\n",
    "Singularity_Test(B)"
   ]
  },
  {
   "cell_type": "code",
   "execution_count": 6,
   "metadata": {},
   "outputs": [
    {
     "data": {
      "text/plain": [
       "array([[1. , 1.5, 2. , 2.5],\n",
       "       [5. , 4. , 9. , 7. ],\n",
       "       [3. , 2. , 5. , 6. ],\n",
       "       [9. , 9. , 6. , 5. ]])"
      ]
     },
     "execution_count": 6,
     "metadata": {},
     "output_type": "execute_result"
    }
   ],
   "source": [
    "fix_Row_Zero(B)"
   ]
  },
  {
   "cell_type": "code",
   "execution_count": 7,
   "metadata": {},
   "outputs": [
    {
     "data": {
      "text/plain": [
       "array([[ 1.        ,  1.5       ,  2.        ,  2.5       ],\n",
       "       [-0.        ,  1.        ,  0.28571429,  1.57142857],\n",
       "       [ 3.        ,  2.        ,  5.        ,  6.        ],\n",
       "       [ 9.        ,  9.        ,  6.        ,  5.        ]])"
      ]
     },
     "execution_count": 7,
     "metadata": {},
     "output_type": "execute_result"
    }
   ],
   "source": [
    "fix_Row_One(B)"
   ]
  },
  {
   "cell_type": "code",
   "execution_count": 8,
   "metadata": {},
   "outputs": [
    {
     "data": {
      "text/plain": [
       "array([[ 1.        ,  1.5       ,  2.        ,  2.5       ],\n",
       "       [-0.        ,  1.        ,  0.28571429,  1.57142857],\n",
       "       [-0.        , -0.        ,  1.        , -8.5       ],\n",
       "       [ 9.        ,  9.        ,  6.        ,  5.        ]])"
      ]
     },
     "execution_count": 8,
     "metadata": {},
     "output_type": "execute_result"
    }
   ],
   "source": [
    "fix_Row_Two(B)"
   ]
  },
  {
   "cell_type": "code",
   "execution_count": 9,
   "metadata": {},
   "outputs": [
    {
     "data": {
      "text/plain": [
       "array([[ 1.        ,  1.5       ,  2.        ,  2.5       ],\n",
       "       [-0.        ,  1.        ,  0.28571429,  1.57142857],\n",
       "       [-0.        , -0.        ,  1.        , -8.5       ],\n",
       "       [-0.        , -0.        , -0.        ,  1.        ]])"
      ]
     },
     "execution_count": 9,
     "metadata": {},
     "output_type": "execute_result"
    }
   ],
   "source": [
    "fix_Row_Three(B)"
   ]
  },
  {
   "cell_type": "markdown",
   "metadata": {},
   "source": [
    "### Implementing the Gram Schmidt Process\n",
    "Implementing a function to perform the Gram-Schmidt procedure, which takes a list of vectors and forms an orthonormal basis from this set.\n",
    "As a corollary, the procedure allows us to determine the dimension of the space spanned by the basis vectors, which is equal to or less than the space which the vectors sit."
   ]
  },
  {
   "cell_type": "code",
   "execution_count": 10,
   "metadata": {},
   "outputs": [],
   "source": [
    "# Defining a very small number for comparison\n",
    "verySmallNumber = 1e-14 # That's 1×10⁻¹⁴ = 0.00000000000001"
   ]
  },
  {
   "cell_type": "code",
   "execution_count": 11,
   "metadata": {},
   "outputs": [],
   "source": [
    "def Gram_Schmidt_Basis(A) :\n",
    "    B = np.array(A, dtype=np.float_)\n",
    "    for i in range(B.shape[1]) :\n",
    "        for j in range(i) :\n",
    "            B[:, i] = B[:, i] - B[:, i] @ B[:, j] * B[:, j]\n",
    "        if la.norm(B[:, i]) > verySmallNumber :\n",
    "            B[:, i] = B[:, i] / la.norm(B[:, i])\n",
    "        else :\n",
    "            B[:, i] = np.zeros_like(B[:, i])    \n",
    "    return B"
   ]
  },
  {
   "cell_type": "code",
   "execution_count": 12,
   "metadata": {},
   "outputs": [],
   "source": [
    "def dimension_count(A) :\n",
    "    \"\"\"\n",
    "    Function that uses the Gram-schmidt process to calculate the dimension spanned by a list of vectors.\n",
    "    \n",
    "    \"\"\"\n",
    "    return np.sum(la.norm(Gram_Schmidt_Basis(A), axis=0))"
   ]
  },
  {
   "cell_type": "code",
   "execution_count": 13,
   "metadata": {},
   "outputs": [
    {
     "data": {
      "text/plain": [
       "array([[ 0.40824829, -0.1814885 ,  0.04982278,  0.89325973],\n",
       "       [ 0.        ,  0.1088931 ,  0.99349591, -0.03328918],\n",
       "       [ 0.81649658,  0.50816781, -0.06462163, -0.26631346],\n",
       "       [ 0.40824829, -0.83484711,  0.07942048, -0.36063281]])"
      ]
     },
     "execution_count": 13,
     "metadata": {},
     "output_type": "execute_result"
    }
   ],
   "source": [
    "# Verifying the results\n",
    "C = np.array([[1,0,2,6],[0,1,8,2],[2,8,3,1],[1,-6,2,3]], dtype=np.float_)\n",
    "Gram_Schmidt_Basis(C)"
   ]
  },
  {
   "cell_type": "code",
   "execution_count": 14,
   "metadata": {},
   "outputs": [
    {
     "data": {
      "text/plain": [
       "array([[0.70710678, 0.        , 0.        ],\n",
       "       [0.        , 1.        , 0.        ],\n",
       "       [0.70710678, 0.        , 0.        ]])"
      ]
     },
     "execution_count": 14,
     "metadata": {},
     "output_type": "execute_result"
    }
   ],
   "source": [
    "D = np.array([[1,0,2],[0,1,-3],[1,0,2]], dtype=np.float_)\n",
    "Gram_Schmidt_Basis(D)"
   ]
  },
  {
   "cell_type": "code",
   "execution_count": 15,
   "metadata": {},
   "outputs": [
    {
     "data": {
      "text/plain": [
       "2.0"
      ]
     },
     "execution_count": 15,
     "metadata": {},
     "output_type": "execute_result"
    }
   ],
   "source": [
    "dimension_count(D)"
   ]
  }
 ],
 "metadata": {
  "kernelspec": {
   "display_name": "Python 3",
   "language": "python",
   "name": "python3"
  },
  "language_info": {
   "codemirror_mode": {
    "name": "ipython",
    "version": 3
   },
   "file_extension": ".py",
   "mimetype": "text/x-python",
   "name": "python",
   "nbconvert_exporter": "python",
   "pygments_lexer": "ipython3",
   "version": "3.6.5"
  }
 },
 "nbformat": 4,
 "nbformat_minor": 2
}
